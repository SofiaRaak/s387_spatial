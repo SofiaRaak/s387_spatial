{
 "cells": [
  {
   "cell_type": "code",
   "execution_count": 1,
   "id": "ac740f89-83ba-4c50-b5fb-d38d8d96a8ca",
   "metadata": {},
   "outputs": [
    {
     "name": "stderr",
     "output_type": "stream",
     "text": [
      "C:\\Users\\Sofia\\AppData\\Roaming\\Python\\Python39\\site-packages\\pandas\\core\\computation\\expressions.py:21: UserWarning: Pandas requires version '2.8.4' or newer of 'numexpr' (version '2.7.3' currently installed).\n",
      "  from pandas.core.computation.check import NUMEXPR_INSTALLED\n",
      "C:\\Users\\Sofia\\AppData\\Roaming\\Python\\Python39\\site-packages\\pandas\\core\\arrays\\masked.py:60: UserWarning: Pandas requires version '1.3.6' or newer of 'bottleneck' (version '1.3.2' currently installed).\n",
      "  from pandas.core import (\n"
     ]
    }
   ],
   "source": [
    "import numpy as np\n",
    "import pandas as pd\n",
    "import scipy\n",
    "import matplotlib.pyplot as plt\n",
    "import matplotlib.lines as mlines\n",
    "import cma\n",
    "import math\n",
    "import numba\n",
    "import os\n",
    "from tqdm import tqdm\n",
    "import scipy.stats as st"
   ]
  },
  {
   "cell_type": "code",
   "execution_count": 2,
   "id": "915f78c9-30d6-4adf-8c4d-dc7302361b7d",
   "metadata": {},
   "outputs": [],
   "source": [
    "#params\n",
    "##data\n",
    "amp, centre, sigma = (0.6969641043116005, 1.4904524578404597, 1.3102271681828053)\n",
    "\n",
    "x_data = [0, 3, 6, 10, 20]\n",
    "\n",
    "Aktp_data = [1.6, 2.3, 1.87, 1.8, 0.66]\n",
    "Agop_data = [1.5, 2.6, 2.9, 2.1, 0.79]\n",
    "Agopgw_data = [1.2, 1.5, 2.85, 2.15, 1.07]\n",
    "\n",
    "Aktp_data_SEM = [0.17, 0.19, 0.26, 0.7, 0.27]\n",
    "Agop_data_SEM = [0.22, 0.57, 0.23, 0.17, 0.42]\n",
    "Agopgw_data_SEM = [0.0, 0.11, 0.21, 0.18, 0.17]\n",
    "\n",
    "x_data2 = [-60, -30, -5, 0, 3, 6, 10, 20]\n",
    "\n",
    "Aktp_data2 = [1, 1, 1, 1.6, 2.3, 1.87, 1.8, 0.66]\n",
    "Agop_data2 = [1, 1, 1, 1.5, 2.6, 2.9, 2.1, 0.79]\n",
    "Agopgw_data2 = [1, 1, 1, 1.2, 1.5, 2.85, 2.15, 1.07]\n",
    "\n",
    "Aktp_data_SEM2 = [0.32, 0.32, 0.32, 0.17, 0.19, 0.26, 0.7, 0.27]\n",
    "Agop_data_SEM2 = [0.32, 0.32, 0.32, 0.22, 0.57, 0.23, 0.17, 0.42]\n",
    "Agopgw_data_SEM2 = [0.36, 0.36, 0.36, 0.0, 0.11, 0.21, 0.18, 0.17]\n",
    "\n",
    "\n",
    "pAG = {'dmso_basal': [0.6627906976744186, 0.790697674418605, 1.5697674418604648],\n",
    "       'dmso_nmda': [1.8604651162790693, 1.6976744186046513, 1.837209302325581],\n",
    "       'iakt_basal': [0.3953488372093027, 0.25581395348837255, 0.27906976744186024],\n",
    "       'iakt_nmda': [0.45348837209302284, 0.3255813953488376, 0.4418604651162791]}\n",
    "\n",
    "pA = {'dmso_basal': [0.9122807017543857, 0.7456140350877186, 0.842105263157895],\n",
    "      'dmso_nmda': [2.0526315789473677, 1.5877192982456136, 1.6403508771929818],\n",
    "      'iakt_basal': [0.23684210526315913, 0.10526315789473667, 0.2192982456140353],\n",
    "      'iakt_nmda': [0.04385964912280802, 0.20175438596491302, 0.27192982456140363]}\n",
    "\n",
    "data = np.array([[Aktp_data], [Agop_data], [Agopgw_data]])\n",
    "data_sem = np.array([[Aktp_data_SEM], [Agop_data_SEM], [Agopgw_data_SEM]])\n",
    "\n",
    "data2 = np.array([[Aktp_data2], [Agop_data2], [Agopgw_data2]])\n",
    "data_sem2 = np.array([[Aktp_data_SEM2], [Agop_data_SEM2], [Agopgw_data_SEM2]])\n",
    "\n",
    "nmda_x = [108.77762801045833-120, 125.66705100930517-120, 147.06140279649867-120, 168.61165694983492-120, 188.7003264205789-120, 208.8734430063173-120, 224.78198028484644-120, 252.21430079412767-120, 266.70672491352275-120, 292.67421277425-120, 308.54702242720464-120, 327.3170177176539-120, 350.40031180473215-120, 369.15731523133604-120,]\n",
    "nmda_y = [0.2911963882618509, 0.5530474040632054, 0.6839729119638827, 0.7065462753950338, 0.7449209932279908, 0.7246049661399547, 0.6681715575620766, 0.6027088036117381, 0.5304740406320541, 0.4830699774266365, 0.4514672686230248, 0.4063205417607221, 0.3634311512415347, 0.3273137697516928,]\n",
    "nmda_sem = [0.3702031602708802, 0.6817155756207673, 0.8600451467268622, 0.8893905191873588, 0.9638826185101579, 0.9480812641083518, 0.8781038374717831, 0.8239277652370203, 0.7223476297968396, 0.6681715575620766, 0.6094808126410833, 0.5643340857787809, 0.5079006772009027, 0.46275395033860045]\n",
    "nmda_sem = np.array(nmda_sem) - np.array(nmda_y)\n",
    "nmda_x = np.array(nmda_x) / 60\n",
    "\n",
    "nmda_y = np.array(nmda_y)\n",
    "\n",
    "##others\n",
    "dt = 0.01\n",
    "minutes = 20\n",
    "numtimesteps = minutes/dt #100\n",
    "\n",
    "#rate constants\n",
    "k1, k_1, k2, k_2, k3, k_3, Akt_init, Aktp_init, \\\n",
    "Ago_init, Agop_init, Gw_init, Agopgw_init = [-2.1891086172494694, -2.4433488194546342, -24.246747947385302, \\\n",
    "                                             0.3097092957302445, -5.566253607295039, -0.529244446408704, \\\n",
    "                                             -7.789006960185361, -9.934601074801321, 9.036872136090096, \\\n",
    "                                             -25.710634963063058, -20.33791222058062, -51.037103097041836]\n",
    "\n",
    "rates = [k1, k_1, k2, k_2, k3, k_3]\n",
    "inits = [Akt_init, Aktp_init,  Ago_init, Agop_init, Gw_init, Agopgw_init]\n",
    "\n",
    "theta = np.array(rates + inits)\n",
    "\n",
    "beg = 0\n",
    "beg2 = -10"
   ]
  },
  {
   "cell_type": "code",
   "execution_count": 3,
   "id": "21bbb3bd-b281-480b-8eeb-8129c6888ad0",
   "metadata": {},
   "outputs": [],
   "source": [
    "def model1(theta, nmda = True, iakt = False):\n",
    "   \n",
    "    def gauss(x, amp, centre, sigma):\n",
    "        return amp*np.exp(-(x - centre)**2 / (2*sigma)**2)\n",
    "   \n",
    "    k1, k_1, k2, k_2, k3, k_3, Akt0, Aktp0, Ago0, Agop0, Gw0, Agopgw0 = np.exp(theta)\n",
    "    \n",
    "    if iakt == True:\n",
    "        k1 = 0\n",
    "    else:\n",
    "        k1 = k1\n",
    "   \n",
    "    Akt = np.zeros(int((minutes - beg)/dt))\n",
    "    Aktp = np.zeros(int((minutes - beg)/dt))\n",
    "    Ago = np.zeros(int((minutes - beg)/dt))\n",
    "    Agop = np.zeros(int((minutes - beg)/dt))\n",
    "    Gw = np.zeros(int((minutes - beg)/dt))\n",
    "    Agopgw = np.zeros(int((minutes - beg)/dt))\n",
    "    time = np.linspace(int(beg), int(minutes), int((minutes-beg)/dt))\n",
    "   \n",
    "    if nmda == True:\n",
    "        NMDA = gauss(time, amp, centre, sigma)\n",
    "    else:\n",
    "        NMDA = np.zeros(int((minutes-beg)/dt))\n",
    "                \n",
    "    Akt[0] = Akt0\n",
    "    Aktp[0] = Aktp0\n",
    "    Ago[0] = Ago0\n",
    "    Agop[0] = Agop0\n",
    "    Gw[0] = Gw0\n",
    "    Agopgw[0] = Agopgw0\n",
    "   \n",
    "    for i in range(1, int((minutes-beg)/dt)):\n",
    "        Akt[i] = Akt[i-1] + dt*(Aktp[i-1]*k_1 - Akt[i-1]*k1*NMDA[i])\n",
    "        Aktp[i] = Aktp[i-1] + dt*(Akt[i-1]*k1*NMDA[i] - Aktp[i-1]*k_1)\n",
    "        Ago[i] = Ago[i-1] + dt*(Agop[i-1]*k_2 - Aktp[i-1]*Ago[i-1]*k2)\n",
    "        Agop[i] = Agop[i-1] + dt*(Aktp[i-1]*Ago[i-1]*k2 + Agopgw[i-1]*k_3 - Agop[i-1]*k_2 - Agop[i-1]*Gw[i-1]*k3)\n",
    "        Gw[i] = Gw[i-1] + dt*(Agopgw[i-1]*k_3 - Agop[i-1]*Gw[i-1]*k3)\n",
    "        Agopgw[i] = Agopgw[i-1] + dt*(Agop[i-1]*Gw[i-1]*k3 - Agopgw[i-1]*k_3)\n",
    "       \n",
    "    return Akt, Aktp, Ago, Agop, Gw, Agopgw, NMDA, time\n",
    "\n",
    "#first simple model function fc calculation\n",
    "def foldChange1(theta, nmda = True, iakt = False):\n",
    "    Akt, Aktp, Ago, Agop, Gw, Agopgw, NMDA, time = model1(theta, nmda, iakt)\n",
    "   \n",
    "    Aktp_fold = np.zeros(len(Akt))\n",
    "    Agop_fold = np.zeros(len(Akt))\n",
    "    Agopgw_fold = np.zeros(len(Akt))\n",
    "   \n",
    "    for i in range(len(Akt)):\n",
    "            Aktp_fold[i] = Aktp[i] / ( Aktp[0] )#+ Akt[0]) / akcont\n",
    "            Agop_fold[i] = (Agop[i] + Agopgw[i]) / ( Agop[0]  + Agopgw[0] )#+ Ago[0] ) / agcont\n",
    "            Agopgw_fold[i] = Agopgw[i] / ( Agopgw[0] )#+ Gw[0]) / gwcont\n",
    "           \n",
    "    return Aktp_fold, Agop_fold, Agopgw_fold, time"
   ]
  },
  {
   "cell_type": "code",
   "execution_count": 4,
   "id": "350f6574-6fda-4231-8026-141afa0961db",
   "metadata": {},
   "outputs": [],
   "source": [
    "pR_basal, pA_basal, pAG_basal, time_bd = foldChange1(theta, nmda = False)\n",
    "pR_nmda, pA_nmda, pAG_nmda, time_dmso = foldChange1(theta)"
   ]
  },
  {
   "cell_type": "code",
   "execution_count": 5,
   "id": "64ea21a9-a0c1-4d9f-bcef-394682804777",
   "metadata": {},
   "outputs": [],
   "source": [
    "iAkt_pR_basal, iAkt_pA_basal, iAkt_pAG_basal, time_id = foldChange1(theta, nmda = False, iakt = True)\n",
    "iAkt_pR_nmda, iAkt_pA_nmda, iAkt_pAG_nmda, time_iakt = foldChange1(theta, iakt = True)"
   ]
  },
  {
   "cell_type": "code",
   "execution_count": 6,
   "id": "68b50d69-8cab-4ae3-80aa-8853c704deba",
   "metadata": {},
   "outputs": [
    {
     "data": {
      "text/plain": [
       "0.5790681190071432"
      ]
     },
     "execution_count": 6,
     "metadata": {},
     "output_type": "execute_result"
    }
   ],
   "source": [
    "np.interp(10, time_iakt, iAkt_pA_nmda)"
   ]
  },
  {
   "cell_type": "code",
   "execution_count": 7,
   "id": "f162ff2c-c2db-4a87-a37b-ab9d8f7c6119",
   "metadata": {},
   "outputs": [
    {
     "data": {
      "text/plain": [
       "[<matplotlib.lines.Line2D at 0x1cca92bf6d0>]"
      ]
     },
     "execution_count": 7,
     "metadata": {},
     "output_type": "execute_result"
    },
    {
     "data": {
      "image/png": "[encoded data removed]",
      "text/plain": [
       "<Figure size 432x288 with 1 Axes>"
      ]
     },
     "metadata": {
      "needs_background": "light"
     },
     "output_type": "display_data"
    }
   ],
   "source": [
    "fig, ax = plt.subplots()\n",
    "\n",
    "ax.plot(time_iakt,\n",
    "        iAkt_pR_nmda)\n",
    "ax.plot(time_iakt,\n",
    "        iAkt_pA_nmda)"
   ]
  },
  {
   "cell_type": "code",
   "execution_count": 8,
   "id": "f2467a1c-b0e3-42e0-b384-d7ddd2d33d19",
   "metadata": {},
   "outputs": [],
   "source": [
    "x = [1, 2]\n",
    "w = 0.15\n",
    "names = ['DMSO', 'Akti-1/2']"
   ]
  },
  {
   "cell_type": "code",
   "execution_count": 9,
   "id": "1f4942fc-9bfc-4866-9802-46a92e21cf6a",
   "metadata": {},
   "outputs": [
    {
     "data": {
      "image/png": "[encoded data removed]",
      "text/plain": [
       "<Figure size 432x288 with 1 Axes>"
      ]
     },
     "metadata": {
      "needs_background": "light"
     },
     "output_type": "display_data"
    }
   ],
   "source": [
    "fig, ax = plt.subplots()\n",
    "\n",
    "ax.bar(0.7,\n",
    "       height = np.mean(np.array(pA['dmso_basal'])),\n",
    "       yerr = st.sem(np.array(pA['dmso_basal'])),\n",
    "       color = 'red',\n",
    "       ecolor = 'black',\n",
    "       edgecolor = 'black',\n",
    "       capsize = 5, \n",
    "      width = w)\n",
    "ax.bar(0.9,\n",
    "       np.interp(10, time_bd, pA_basal),\n",
    "       color = 'red',\n",
    "       hatch = '//',\n",
    "       edgecolor = 'black', \n",
    "      width = w)\n",
    "ax.bar(1.1,\n",
    "       height = np.mean(np.array(pA['dmso_nmda'])),\n",
    "       yerr = st.sem(np.array(pA['dmso_nmda'])),\n",
    "       color = 'blue',\n",
    "       ecolor = 'black',\n",
    "       edgecolor = 'black',\n",
    "       capsize = 5, \n",
    "      width = w)\n",
    "ax.bar(1.3,\n",
    "       np.interp(10, time_dmso, pA_nmda),\n",
    "       color = 'blue',\n",
    "       hatch = '//',\n",
    "       edgecolor = 'black', \n",
    "      width = w)\n",
    "\n",
    "ax.bar(1.7,\n",
    "       height = np.mean(np.array(pA['iakt_basal'])),\n",
    "       yerr = st.sem(np.array(pA['iakt_basal'])),\n",
    "       color = 'red',\n",
    "       ecolor = 'black',\n",
    "       edgecolor = 'black',\n",
    "       capsize = 5, \n",
    "      width = w)\n",
    "ax.bar(1.9,\n",
    "       np.interp(10, time_id, iAkt_pA_basal),\n",
    "       color = 'red',\n",
    "       hatch = '//',\n",
    "       edgecolor = 'black', \n",
    "      width = w)\n",
    "ax.bar(2.1,\n",
    "       height = np.mean(np.array(pA['iakt_nmda'])),\n",
    "       yerr = st.sem(np.array(pA['iakt_nmda'])),\n",
    "       color = 'blue',\n",
    "       ecolor = 'black',\n",
    "       edgecolor = 'black',\n",
    "       capsize = 5, \n",
    "      width = w)\n",
    "ax.bar(2.3,\n",
    "       np.interp(10, time_iakt, iAkt_pA_nmda),\n",
    "       color = 'blue',\n",
    "       hatch = '//',\n",
    "       edgecolor = 'black', \n",
    "      width = w)\n",
    "\n",
    "plt.xticks(x, names)\n",
    "\n",
    "#ax.set_ylim(0,5)\n",
    "\n",
    "ax.set_ylabel('Fold change, pA')\n",
    "\n",
    "plt.savefig('./replicate_data-pA.svg', dpi = 600, bbox_inches = 'tight')\n",
    "\n",
    "plt.show()"
   ]
  },
  {
   "cell_type": "code",
   "execution_count": 10,
   "id": "0e8411ee-9911-4472-b5b9-ca45792ab1e2",
   "metadata": {},
   "outputs": [
    {
     "data": {
      "image/png": "[encoded data removed]",
      "text/plain": [
       "<Figure size 432x288 with 1 Axes>"
      ]
     },
     "metadata": {
      "needs_background": "light"
     },
     "output_type": "display_data"
    }
   ],
   "source": [
    "fig, ax = plt.subplots()\n",
    "\n",
    "ax.bar(0.7,\n",
    "       height = np.mean(np.array(pAG['dmso_basal'])),\n",
    "       yerr = st.sem(np.array(pAG['dmso_basal'])),\n",
    "       color = 'red',\n",
    "       ecolor = 'black',\n",
    "       edgecolor = 'black',\n",
    "       capsize = 5, \n",
    "      width = w)\n",
    "ax.bar(0.9,\n",
    "       np.interp(10, time_bd, pAG_basal),\n",
    "       color = 'red',\n",
    "       hatch = '//',\n",
    "       edgecolor = 'black', \n",
    "      width = w)\n",
    "ax.bar(1.1,\n",
    "       height = np.mean(np.array(pAG['dmso_nmda'])),\n",
    "       yerr = st.sem(np.array(pAG['dmso_nmda'])),\n",
    "       color = 'blue',\n",
    "       ecolor = 'black',\n",
    "       edgecolor = 'black',\n",
    "       capsize = 5, \n",
    "      width = w)\n",
    "ax.bar(1.3,\n",
    "       np.interp(10, time_dmso, pAG_nmda),\n",
    "       color = 'blue',\n",
    "       hatch = '//',\n",
    "       edgecolor = 'black', \n",
    "      width = w)\n",
    "\n",
    "ax.bar(1.7,\n",
    "       height = np.mean(np.array(pAG['iakt_basal'])),\n",
    "       yerr = st.sem(np.array(pAG['iakt_basal'])),\n",
    "       color = 'red',\n",
    "       ecolor = 'black',\n",
    "       edgecolor = 'black',\n",
    "       capsize = 5, \n",
    "      width = w)\n",
    "ax.bar(1.9,\n",
    "       np.interp(10, time_id, iAkt_pAG_basal),\n",
    "       color = 'red',\n",
    "       hatch = '//',\n",
    "       edgecolor = 'black', \n",
    "      width = w)\n",
    "ax.bar(2.1,\n",
    "       height = np.mean(np.array(pAG['iakt_nmda'])),\n",
    "       yerr = st.sem(np.array(pAG['iakt_nmda'])),\n",
    "       color = 'blue',\n",
    "       ecolor = 'black',\n",
    "       edgecolor = 'black',\n",
    "       capsize = 5, \n",
    "      width = w)\n",
    "ax.bar(2.3,\n",
    "       np.interp(10, time_iakt, iAkt_pAG_nmda),\n",
    "       color = 'blue',\n",
    "       hatch = '//',\n",
    "       edgecolor = 'black', \n",
    "      width = w)\n",
    "\n",
    "plt.xticks(x, names)\n",
    "\n",
    "#ax.set_ylim(0,5)\n",
    "\n",
    "ax.set_ylabel('Fold change, pAG')\n",
    "\n",
    "plt.savefig('./replicate_data-pAG.svg', dpi = 600, bbox_inches = 'tight')\n",
    "\n",
    "plt.show()"
   ]
  },
  {
   "cell_type": "code",
   "execution_count": null,
   "id": "54a29199-449e-4d17-9d6c-6a827a0e5b25",
   "metadata": {},
   "outputs": [],
   "source": []
  }
 ],
 "metadata": {
  "kernelspec": {
   "display_name": "Python 3 (ipykernel)",
   "language": "python",
   "name": "python3"
  },
  "language_info": {
   "codemirror_mode": {
    "name": "ipython",
    "version": 3
   },
   "file_extension": ".py",
   "mimetype": "text/x-python",
   "name": "python",
   "nbconvert_exporter": "python",
   "pygments_lexer": "ipython3",
   "version": "3.9.7"
  }
 },
 "nbformat": 4,
 "nbformat_minor": 5
}
